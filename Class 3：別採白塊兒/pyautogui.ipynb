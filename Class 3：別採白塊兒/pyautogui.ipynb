{
 "cells": [
  {
   "cell_type": "code",
   "execution_count": 4,
   "metadata": {},
   "outputs": [],
   "source": [
    "from pyautogui import *\n",
    "import pyautogui\n",
    "import time\n",
    "import keyboard\n",
    "\n",
    "## Column 1 Position X: 448  Y: 630\n",
    "## Column 2 Position X: 352  Y: 630\n",
    "## Column 3 Position X: 206  Y: 630\n",
    "## Column 4 Position X: 62   Y: 630\n",
    "\n",
    "def click(x,y):\n",
    "    # pyautogui.moveTo(x,y)\n",
    "    pyautogui.click(x,y, button='left')\n",
    "    time.sleep(0.001)\n",
    "\n",
    "while keyboard.is_pressed('q') == False:\n",
    "    \n",
    "    if pyautogui.pixel(448, 630)[0] <= 5:\n",
    "        click(448,692)\n",
    "    if pyautogui.pixel(352, 630)[0] <= 5:\n",
    "        click(352, 633)\n",
    "    if pyautogui.pixel(206, 630)[0] <= 5:\n",
    "        click(206, 646)\n",
    "    if pyautogui.pixel(62, 630)[0] <= 5:\n",
    "        click(62, 657)"
   ]
  },
  {
   "cell_type": "code",
   "execution_count": null,
   "metadata": {},
   "outputs": [],
   "source": [
    "## Col1: X:453 Y: 555\n",
    "## Col2: X:360 Y: 555\n",
    "## Col3: X:220 Y: 555\n",
    "## Col4: X:66 Y: 555\n",
    "\n"
   ]
  },
  {
   "cell_type": "code",
   "execution_count": null,
   "metadata": {},
   "outputs": [],
   "source": [
    "import pyautogui\n",
    "import keyboard\n",
    "import time\n",
    "def click(x,y):\n",
    "    pyautogui.click(x,y,button='left')\n",
    "    time.sleep(0.001)\n",
    "while(keyboard.is_pressed('q') == False):\n",
    "    if(pyautogui.pixel(453,555)[0] <= 5):\n",
    "        click(453, 555)\n",
    "    if(pyautogui.pixel(360,555)[0] <= 5):\n",
    "        click(360, 555)\n",
    "    if(pyautogui.pixel(220,555)[0] <= 5):\n",
    "        click(220, 555)\n",
    "    if(pyautogui.pixel(66,555)[0] <= 5):\n",
    "        click(66, 555)"
   ]
  }
 ],
 "metadata": {
  "kernelspec": {
   "display_name": "opencv-pyautogui",
   "language": "python",
   "name": "python3"
  },
  "language_info": {
   "codemirror_mode": {
    "name": "ipython",
    "version": 3
   },
   "file_extension": ".py",
   "mimetype": "text/x-python",
   "name": "python",
   "nbconvert_exporter": "python",
   "pygments_lexer": "ipython3",
   "version": "3.9.16"
  },
  "orig_nbformat": 4
 },
 "nbformat": 4,
 "nbformat_minor": 2
}
