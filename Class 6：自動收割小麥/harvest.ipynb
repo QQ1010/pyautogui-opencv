{
 "cells": [
  {
   "cell_type": "code",
   "execution_count": 34,
   "metadata": {},
   "outputs": [],
   "source": [
    "import pyautogui\n",
    "import cv2\n",
    "import time\n",
    "import keyboard\n",
    "import numpy as np"
   ]
  },
  {
   "cell_type": "code",
   "execution_count": 37,
   "metadata": {},
   "outputs": [],
   "source": [
    "def harvest():\n",
    "    screenshot = pyautogui.screenshot()\n",
    "    screenshot.save('screenshot.png')\n",
    "    screenshot = cv2.imread('screenshot.png')\n",
    "    wheat_img = cv2.imread('wheat.png')\n",
    "    bear_img = cv2.imread('bear.png')\n",
    "\n",
    "    wheat_result = cv2.matchTemplate(screenshot, wheat_img, cv2.TM_CCOEFF_NORMED)\n",
    "    threshold = 0.6\n",
    "    yloc , xloc = np.where(wheat_result>= threshold)\n",
    "    for (x,y) in zip(xloc, yloc):\n",
    "        pyautogui.click(x , y + 50)\n",
    "        screenshot = pyautogui.screenshot()\n",
    "        screenshot.save('screenshot.png')\n",
    "        screenshot = cv2.imread('screenshot.png')\n",
    "        bear_result = cv2.matchTemplate(screenshot, bear_img, cv2.TM_CCOEFF_NORMED)\n",
    "        bear_y, bear_x = np.where(bear_result >= threshold)\n",
    "        if(len(bear_x) >= 0):\n",
    "            pyautogui.moveTo(bear_x[0], bear_y[0] + 50)\n",
    "            time.sleep(0.01)\n",
    "            pyautogui.dragTo(x, y + 50, duration=3, button='left')\n",
    "        else:\n",
    "            print(\"Cannot find the bear in the picture\")\n",
    "            break"
   ]
  },
  {
   "cell_type": "code",
   "execution_count": null,
   "metadata": {},
   "outputs": [],
   "source": [
    "while keyboard.is_pressed('q') == False:\n",
    "    harvest()\n",
    "    break"
   ]
  }
 ],
 "metadata": {
  "kernelspec": {
   "display_name": "opencv-pyautogui",
   "language": "python",
   "name": "python3"
  },
  "language_info": {
   "codemirror_mode": {
    "name": "ipython",
    "version": 3
   },
   "file_extension": ".py",
   "mimetype": "text/x-python",
   "name": "python",
   "nbconvert_exporter": "python",
   "pygments_lexer": "ipython3",
   "version": "3.9.16"
  },
  "orig_nbformat": 4
 },
 "nbformat": 4,
 "nbformat_minor": 2
}
