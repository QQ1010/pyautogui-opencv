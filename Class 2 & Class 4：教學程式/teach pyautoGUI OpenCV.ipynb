{
 "cells": [
  {
   "attachments": {},
   "cell_type": "markdown",
   "metadata": {},
   "source": [
    "## keyboard.is_pressed('a')"
   ]
  },
  {
   "cell_type": "code",
   "execution_count": 23,
   "metadata": {},
   "outputs": [
    {
     "name": "stdout",
     "output_type": "stream",
     "text": [
      "press a button\n"
     ]
    }
   ],
   "source": [
    "import keyboard\n",
    "while(1):\n",
    "    if(keyboard.is_pressed('a')):\n",
    "        print('press a button')\n",
    "        break"
   ]
  },
  {
   "attachments": {},
   "cell_type": "markdown",
   "metadata": {},
   "source": [
    "## pyautogui.displayMousePosition()\n",
    "## pyautogui.click(x,y, button='left')\n",
    "## pyautogui.moveTo(x,y)\n",
    "## pyautogui.dragTo(x,y,duration=seconds,button='left')\n",
    "## pyautogui.pixel(x,y)"
   ]
  },
  {
   "cell_type": "code",
   "execution_count": 32,
   "metadata": {},
   "outputs": [],
   "source": [
    "import pyautogui\n",
    "x = 452\n",
    "y = 764\n",
    "pyautogui.click(x,y, button='left')"
   ]
  },
  {
   "cell_type": "code",
   "execution_count": 33,
   "metadata": {},
   "outputs": [],
   "source": [
    "pyautogui.moveTo(x,y)"
   ]
  },
  {
   "cell_type": "code",
   "execution_count": 34,
   "metadata": {},
   "outputs": [],
   "source": [
    "seconds = 3\n",
    "pyautogui.dragTo(x,y,duration=seconds,button='left')"
   ]
  },
  {
   "cell_type": "code",
   "execution_count": 35,
   "metadata": {},
   "outputs": [
    {
     "data": {
      "text/plain": [
       "(255, 255, 255)"
      ]
     },
     "execution_count": 35,
     "metadata": {},
     "output_type": "execute_result"
    }
   ],
   "source": [
    "pyautogui.pixel(x,y)"
   ]
  },
  {
   "attachments": {},
   "cell_type": "markdown",
   "metadata": {},
   "source": [
    "## img = cv2.imread(filename)\n",
    "## cv2.imshow(filename,img)\n",
    "   cv2.waitKey(0)\n",
    "   cv2.destroyAllWindows()\n",
    "## img.save(filename)"
   ]
  },
  {
   "cell_type": "code",
   "execution_count": 42,
   "metadata": {},
   "outputs": [],
   "source": [
    "import cv2\n",
    "filename = 'screenshot.png'\n",
    "img = cv2.imread(filename)"
   ]
  },
  {
   "cell_type": "code",
   "execution_count": 43,
   "metadata": {},
   "outputs": [],
   "source": [
    "cv2.imshow(filename, img)\n",
    "cv2.waitKey(0)\n",
    "cv2.destroyAllWindows()"
   ]
  },
  {
   "cell_type": "code",
   "execution_count": 44,
   "metadata": {},
   "outputs": [],
   "source": [
    "img2 = pyautogui.screenshot()\n",
    "filename2 = 'screenshot_test.png'\n",
    "img2.save(filename2)"
   ]
  },
  {
   "attachments": {},
   "cell_type": "markdown",
   "metadata": {},
   "source": [
    "## cv2.matchTemplate(img, target_img, method)\n",
    "There are 6 comparison methods\n",
    "1. TM_CCOEFF\n",
    "2. TM_CCOEFF_NORMED\n",
    "3. TM_CCORR\n",
    "4. TM_CCORR_NORMED\n",
    "5. TM_SQDIFF\n",
    "6. TM_SQDIFF_NORMED"
   ]
  },
  {
   "cell_type": "code",
   "execution_count": 45,
   "metadata": {},
   "outputs": [],
   "source": [
    "farm_img = cv2.imread('screenshot.png')\n",
    "wheat_img = cv2.imread('wheat.png')\n",
    "\n",
    "result = cv2.matchTemplate(farm_img, wheat_img, cv2.TM_CCOEFF_NORMED)"
   ]
  },
  {
   "cell_type": "code",
   "execution_count": 47,
   "metadata": {},
   "outputs": [],
   "source": [
    "import numpy as np\n",
    "threshold = 0.6\n",
    "yloc, xloc = np.where(result >= threshold)\n",
    "w = wheat_img.shape[1]\n",
    "h = wheat_img.shape[0]\n",
    "\n",
    "for (x,y) in zip(xloc, yloc):\n",
    "    cv2.rectangle(farm_img, (x,y), (x+w, y+h), (0, 255, 255), 2)\n",
    "\n",
    "cv2.imshow(\"Farm Image\", farm_img)\n",
    "cv2.waitKey(0)\n",
    "cv2.destroyAllWindows()"
   ]
  }
 ],
 "metadata": {
  "kernelspec": {
   "display_name": "opencv-pyautogui",
   "language": "python",
   "name": "python3"
  },
  "language_info": {
   "codemirror_mode": {
    "name": "ipython",
    "version": 3
   },
   "file_extension": ".py",
   "mimetype": "text/x-python",
   "name": "python",
   "nbconvert_exporter": "python",
   "pygments_lexer": "ipython3",
   "version": "3.9.16"
  },
  "orig_nbformat": 4
 },
 "nbformat": 4,
 "nbformat_minor": 2
}
