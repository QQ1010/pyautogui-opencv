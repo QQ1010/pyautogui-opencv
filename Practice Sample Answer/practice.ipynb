{
 "cells": [
  {
   "cell_type": "code",
   "execution_count": 21,
   "metadata": {},
   "outputs": [],
   "source": [
    "import cv2\n",
    "import numpy as np\n",
    "import matplotlib.pyplot as plt\n",
    "from pyautogui import *\n",
    "import pyautogui\n",
    "import time\n",
    "import keyboard"
   ]
  },
  {
   "cell_type": "code",
   "execution_count": 22,
   "metadata": {},
   "outputs": [],
   "source": [
    "def harvest():\n",
    "    screenshot = pyautogui.screenshot()\n",
    "    screenshot.save('screenshot.png')\n",
    "    screenshot = cv2.imread('screenshot.png')\n",
    "    wheat_img = cv2.imread('wheat.png')\n",
    "    bear_img = cv2.imread('bear.png')\n",
    "    wheat_result = cv2.matchTemplate(screenshot, wheat_img, cv2.TM_CCOEFF_NORMED)\n",
    "    threshold = .60\n",
    "    yloc , xloc = np.where(wheat_result >= threshold)\n",
    "    for (x,y) in zip(xloc, yloc):\n",
    "        pyautogui.click(x+8,y+8)\n",
    "        time.sleep(0.01)\n",
    "        screenshot = pyautogui.screenshot()\n",
    "        screenshot.save('screenshot.png')\n",
    "        screenshot = cv2.imread('screenshot.png')\n",
    "        time.sleep(0.01)\n",
    "        cv2.matchTemplate(screenshot, bear_img, cv2.TM_CCOEFF_NORMED)\n",
    "        bear_result = cv2.matchTemplate(screenshot, bear_img, cv2.TM_CCOEFF_NORMED)\n",
    "        bear_y, bear_x =  np.where(bear_result >= threshold)\n",
    "        if(len(bear_x) != 0):    \n",
    "            pyautogui.moveTo(bear_x[0]+8, bear_y[0]+8)\n",
    "            time.sleep(0.01)\n",
    "            pyautogui.dragTo(x+8,y+8, duration=3, button='left')\n",
    "        else:\n",
    "            print(\"Cannot find the wheat in the screen.\")\n",
    "            break\n"
   ]
  },
  {
   "cell_type": "code",
   "execution_count": 23,
   "metadata": {},
   "outputs": [],
   "source": [
    "def sowing():\n",
    "    screenshot = pyautogui.screenshot()\n",
    "    screenshot.save('screenshot.png')\n",
    "    screenshot = cv2.imread('screenshot.png')\n",
    "    seed_img = cv2.imread('seed.png')\n",
    "    land_img = cv2.imread('land.png')\n",
    "    land_result = cv2.matchTemplate(screenshot, land_img, cv2.TM_CCOEFF_NORMED)\n",
    "    threshold = .60\n",
    "    yloc , xloc = np.where(land_result >= threshold)\n",
    "    for (x,y) in zip(xloc, yloc):\n",
    "        pyautogui.click(x+5,y+5)\n",
    "        time.sleep(1)\n",
    "        screenshot = pyautogui.screenshot()\n",
    "        screenshot.save('screenshot.png')\n",
    "        screenshot = cv2.imread('screenshot.png')\n",
    "        time.sleep(1)\n",
    "        cv2.matchTemplate(screenshot, seed_img, cv2.TM_CCOEFF_NORMED)\n",
    "        seed_result = cv2.matchTemplate(screenshot, seed_img, cv2.TM_CCOEFF_NORMED)\n",
    "        seed_y, seed_x =  np.where(seed_result >= threshold)\n",
    "        if(len(seed_x) != 0):    \n",
    "            pyautogui.moveTo(seed_x[0]+5, seed_y[0]+5)\n",
    "            time.sleep(1)\n",
    "            pyautogui.dragTo(x+5,y+5, duration=3, button='left')\n",
    "        else:\n",
    "            print(\"Cannot find the land in the screen.\")\n",
    "            break"
   ]
  },
  {
   "cell_type": "code",
   "execution_count": null,
   "metadata": {},
   "outputs": [],
   "source": [
    "while keyboard.is_pressed('q') == False:\n",
    "    harvest()\n",
    "    sleep(5)\n",
    "    sowing()\n",
    "    break\n"
   ]
  }
 ],
 "metadata": {
  "kernelspec": {
   "display_name": "opencv-pyautogui",
   "language": "python",
   "name": "python3"
  },
  "language_info": {
   "codemirror_mode": {
    "name": "ipython",
    "version": 3
   },
   "file_extension": ".py",
   "mimetype": "text/x-python",
   "name": "python",
   "nbconvert_exporter": "python",
   "pygments_lexer": "ipython3",
   "version": "3.9.16"
  },
  "orig_nbformat": 4
 },
 "nbformat": 4,
 "nbformat_minor": 2
}
